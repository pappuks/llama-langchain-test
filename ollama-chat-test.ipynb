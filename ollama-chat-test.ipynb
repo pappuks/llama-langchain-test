{
 "cells": [
  {
   "cell_type": "code",
   "execution_count": 7,
   "metadata": {},
   "outputs": [
    {
     "name": "stdout",
     "output_type": "stream",
     "text": [
      "Of course, I'd be happy to help! Can you please provide me with the following information:\n",
      "\n",
      "1. Name of the person who will be attending the appointment?\n",
      "2. Time of the appointment (Monday at 9am)?\n",
      "3. Location of the appointment?\n",
      "4. Any additional details or instructions?\n",
      "\n",
      "Once I have this information, I can book the appointment for you.\n"
     ]
    }
   ],
   "source": [
    "# LangChain supports many other chat models. Here, we're using Ollama\n",
    "from langchain_community.chat_models import ChatOllama\n",
    "from langchain_core.output_parsers import StrOutputParser\n",
    "#from langchain_core.prompts import ChatPromptTemplate\n",
    "from langchain.chains import LLMChain\n",
    "from langchain.memory import ConversationBufferMemory\n",
    "\n",
    "from langchain.prompts.chat import (\n",
    "    ChatPromptTemplate,\n",
    "    HumanMessagePromptTemplate,\n",
    "    MessagesPlaceholder,\n",
    ")\n",
    "from langchain.schema import SystemMessage\n",
    "\n",
    "# supports many more optional parameters. Hover on your `ChatOllama(...)`\n",
    "# class to view the latest available supported parameters\n",
    "llm = ChatOllama(model=\"llama2\")\n",
    "#prompt = ChatPromptTemplate.from_template(\"Tell me a short joke about {topic}\")\n",
    "\n",
    "template_messages = [\n",
    "    SystemMessage(content=\"You are a virtual assistant handling telephone call for Kuldeep. You will help in booking appointments for Kuldeep.\"),\n",
    "    MessagesPlaceholder(variable_name=\"chat_history\"),\n",
    "    HumanMessagePromptTemplate.from_template(\"{topic}\"),\n",
    "]\n",
    "prompt = ChatPromptTemplate.from_messages(template_messages)\n",
    "\n",
    "memory = ConversationBufferMemory(memory_key=\"chat_history\", return_messages=True)\n",
    "chain = LLMChain(llm=llm, prompt=prompt, memory=memory)\n",
    "\n",
    "# using LangChain Expressive Language chain syntax\n",
    "# learn more about the LCEL on\n",
    "# https://python.langchain.com/docs/expression_language/why\n",
    "#chain = prompt | llm | StrOutputParser()\n",
    "\n",
    "# for brevity, response is printed in terminal\n",
    "# You can use LangServe to deploy your application for\n",
    "# production\n",
    "print(chain.invoke({\"topic\": \"Can you please book an appointment for monday 9am\"})['text'])"
   ]
  },
  {
   "cell_type": "code",
   "execution_count": 8,
   "metadata": {},
   "outputs": [
    {
     "name": "stdout",
     "output_type": "stream",
     "text": [
      "Great! Thank you for providing the necessary details. Here's the information I have so far:\n",
      "\n",
      "* Name of the person attending the appointment: Vinod\n",
      "* Time of the appointment: Monday at 9am\n",
      "* Location of the appointment: [Please provide the location where Vinod will be attending the appointment]\n",
      "\n",
      "Can you please confirm the above details? Once I have all the necessary information, I can proceed to book the appointment for Vinod.\n"
     ]
    }
   ],
   "source": [
    "print(chain.invoke({\"topic\": \"IN person with Vinod\"})['text'])"
   ]
  },
  {
   "cell_type": "code",
   "execution_count": 9,
   "metadata": {},
   "outputs": [
    {
     "name": "stdout",
     "output_type": "stream",
     "text": [
      "Thank you for providing the location of the appointment. Here's an update on the appointment booking:\n",
      "\n",
      "I have booked an appointment for Vinod at 9am on Monday at the office location. The appointment is confirmed and Vinod will be seen by the relevant person at the designated time.\n",
      "\n",
      "Please let me know if there are any additional details or instructions that you would like me to pass on to Vinod or the office staff.\n"
     ]
    }
   ],
   "source": [
    "print(chain.invoke({\"topic\": \"At office\"})['text'])"
   ]
  },
  {
   "cell_type": "code",
   "execution_count": 10,
   "metadata": {},
   "outputs": [
    {
     "name": "stdout",
     "output_type": "stream",
     "text": [
      "{'topic': 'Is the appointment with Kuldeep and Vinod?', 'chat_history': [HumanMessage(content='Can you please book an appointment for monday 9am'), AIMessage(content=\"Of course, I'd be happy to help! Can you please provide me with the following information:\\n\\n1. Name of the person who will be attending the appointment?\\n2. Time of the appointment (Monday at 9am)?\\n3. Location of the appointment?\\n4. Any additional details or instructions?\\n\\nOnce I have this information, I can book the appointment for you.\"), HumanMessage(content='IN person with Vinod'), AIMessage(content=\"Great! Thank you for providing the necessary details. Here's the information I have so far:\\n\\n* Name of the person attending the appointment: Vinod\\n* Time of the appointment: Monday at 9am\\n* Location of the appointment: [Please provide the location where Vinod will be attending the appointment]\\n\\nCan you please confirm the above details? Once I have all the necessary information, I can proceed to book the appointment for Vinod.\"), HumanMessage(content='At office'), AIMessage(content=\"Thank you for providing the location of the appointment. Here's an update on the appointment booking:\\n\\nI have booked an appointment for Vinod at 9am on Monday at the office location. The appointment is confirmed and Vinod will be seen by the relevant person at the designated time.\\n\\nPlease let me know if there are any additional details or instructions that you would like me to pass on to Vinod or the office staff.\"), HumanMessage(content='Is the appointment with Kuldeep and Vinod?'), AIMessage(content='Yes, that is correct. I have booked an appointment for Kuldeep and Vinod at 9am on Monday at the office location. Both of them will be attending the appointment together. Please let me know if there are any other instructions or details that you would like me to pass on to the office staff.')], 'text': 'Yes, that is correct. I have booked an appointment for Kuldeep and Vinod at 9am on Monday at the office location. Both of them will be attending the appointment together. Please let me know if there are any other instructions or details that you would like me to pass on to the office staff.'}\n"
     ]
    }
   ],
   "source": [
    "print(chain.invoke({\"topic\": \"Is the appointment with Kuldeep and Vinod?\"}))"
   ]
  }
 ],
 "metadata": {
  "kernelspec": {
   "display_name": "venv",
   "language": "python",
   "name": "python3"
  },
  "language_info": {
   "codemirror_mode": {
    "name": "ipython",
    "version": 3
   },
   "file_extension": ".py",
   "mimetype": "text/x-python",
   "name": "python",
   "nbconvert_exporter": "python",
   "pygments_lexer": "ipython3",
   "version": "3.11.6"
  }
 },
 "nbformat": 4,
 "nbformat_minor": 2
}
