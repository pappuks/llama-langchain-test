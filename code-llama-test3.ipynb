{
 "cells": [
  {
   "cell_type": "code",
   "execution_count": 5,
   "metadata": {},
   "outputs": [
    {
     "name": "stdout",
     "output_type": "stream",
     "text": [
      "zsh:1: 0.17.1 not found\n"
     ]
    }
   ],
   "source": [
    "!pip install huggingface-hub>=0.17.1\n"
   ]
  },
  {
   "cell_type": "code",
   "execution_count": 7,
   "metadata": {},
   "outputs": [
    {
     "name": "stdout",
     "output_type": "stream",
     "text": [
      "Consider using `hf_transfer` for faster downloads. This solution comes with some limitations. See https://huggingface.co/docs/huggingface_hub/hf_transfer for more details.\n",
      "downloading https://huggingface.co/TheBloke/CodeLlama-7B-Python-GGUF/resolve/main/codellama-7b-python.Q4_K_M.gguf to /Users/kuldeepsingh/.cache/huggingface/hub/tmpdz6qq2xf\n",
      "codellama-7b-python.Q4_K_M.gguf: 100%|█████| 4.08G/4.08G [01:49<00:00, 37.3MB/s]\n",
      "./codellama-7b-python.Q4_K_M.gguf\n"
     ]
    }
   ],
   "source": [
    "!huggingface-cli download TheBloke/CodeLlama-7B-Python-GGUF codellama-7b-python.Q4_K_M.gguf --local-dir . --local-dir-use-symlinks False\n"
   ]
  },
  {
   "cell_type": "code",
   "execution_count": 9,
   "metadata": {},
   "outputs": [
    {
     "name": "stdout",
     "output_type": "stream",
     "text": [
      "Found existing installation: ctransformers 0.2.27\n",
      "Uninstalling ctransformers-0.2.27:\n",
      "  Successfully uninstalled ctransformers-0.2.27\n",
      "Collecting ctransformers\n",
      "  Downloading ctransformers-0.2.27.tar.gz (376 kB)\n",
      "\u001b[2K     \u001b[90m━━━━━━━━━━━━━━━━━━━━━━━━━━━━━━━━━━━━━━━\u001b[0m \u001b[32m376.1/376.1 kB\u001b[0m \u001b[31m5.7 MB/s\u001b[0m eta \u001b[36m0:00:00\u001b[0ma \u001b[36m0:00:01\u001b[0m\n",
      "\u001b[?25h  Installing build dependencies ... \u001b[?25ldone\n",
      "\u001b[?25h  Getting requirements to build wheel ... \u001b[?25ldone\n",
      "\u001b[?25h  Preparing metadata (pyproject.toml) ... \u001b[?25ldone\n",
      "\u001b[?25hRequirement already satisfied: huggingface-hub in ./venv/lib/python3.11/site-packages (from ctransformers) (0.20.3)\n",
      "Requirement already satisfied: py-cpuinfo<10.0.0,>=9.0.0 in ./venv/lib/python3.11/site-packages (from ctransformers) (9.0.0)\n",
      "Requirement already satisfied: filelock in ./venv/lib/python3.11/site-packages (from huggingface-hub->ctransformers) (3.13.1)\n",
      "Requirement already satisfied: fsspec>=2023.5.0 in ./venv/lib/python3.11/site-packages (from huggingface-hub->ctransformers) (2023.12.2)\n",
      "Requirement already satisfied: requests in ./venv/lib/python3.11/site-packages (from huggingface-hub->ctransformers) (2.31.0)\n",
      "Requirement already satisfied: tqdm>=4.42.1 in ./venv/lib/python3.11/site-packages (from huggingface-hub->ctransformers) (4.66.1)\n",
      "Requirement already satisfied: pyyaml>=5.1 in ./venv/lib/python3.11/site-packages (from huggingface-hub->ctransformers) (6.0.1)\n",
      "Requirement already satisfied: typing-extensions>=3.7.4.3 in ./venv/lib/python3.11/site-packages (from huggingface-hub->ctransformers) (4.9.0)\n",
      "Requirement already satisfied: packaging>=20.9 in ./venv/lib/python3.11/site-packages (from huggingface-hub->ctransformers) (23.2)\n",
      "Requirement already satisfied: charset-normalizer<4,>=2 in ./venv/lib/python3.11/site-packages (from requests->huggingface-hub->ctransformers) (3.3.2)\n",
      "Requirement already satisfied: idna<4,>=2.5 in ./venv/lib/python3.11/site-packages (from requests->huggingface-hub->ctransformers) (3.6)\n",
      "Requirement already satisfied: urllib3<3,>=1.21.1 in ./venv/lib/python3.11/site-packages (from requests->huggingface-hub->ctransformers) (2.1.0)\n",
      "Requirement already satisfied: certifi>=2017.4.17 in ./venv/lib/python3.11/site-packages (from requests->huggingface-hub->ctransformers) (2023.11.17)\n",
      "Building wheels for collected packages: ctransformers\n",
      "  Building wheel for ctransformers (pyproject.toml) ... \u001b[?25ldone\n",
      "\u001b[?25h  Created wheel for ctransformers: filename=ctransformers-0.2.27-cp311-cp311-macosx_14_0_arm64.whl size=509222 sha256=f531fb3c4344db2f30766f26472aa78e3770454ee850a9ed2f42606f6c6bf94d\n",
      "  Stored in directory: /Users/kuldeepsingh/Library/Caches/pip/wheels/97/4a/52/527e0ba9715318161f0f7a69f5e60d53b4a1afcd62e61d3347\n",
      "Successfully built ctransformers\n",
      "Installing collected packages: ctransformers\n",
      "Successfully installed ctransformers-0.2.27\n",
      "\n",
      "\u001b[1m[\u001b[0m\u001b[34;49mnotice\u001b[0m\u001b[1;39;49m]\u001b[0m\u001b[39;49m A new release of pip is available: \u001b[0m\u001b[31;49m23.3.1\u001b[0m\u001b[39;49m -> \u001b[0m\u001b[32;49m23.3.2\u001b[0m\n",
      "\u001b[1m[\u001b[0m\u001b[34;49mnotice\u001b[0m\u001b[1;39;49m]\u001b[0m\u001b[39;49m To update, run: \u001b[0m\u001b[32;49mpip install --upgrade pip\u001b[0m\n"
     ]
    }
   ],
   "source": [
    "!pip uninstall ctransformers --yes\n",
    "!CT_METAL=1 pip install ctransformers --no-binary ctransformers"
   ]
  },
  {
   "cell_type": "code",
   "execution_count": 6,
   "metadata": {},
   "outputs": [
    {
     "name": "stderr",
     "output_type": "stream",
     "text": [
      "Fetching 1 files: 100%|██████████| 1/1 [00:00<00:00, 14873.42it/s]\n",
      "Fetching 1 files: 100%|██████████| 1/1 [00:00<00:00, 13530.01it/s]\n"
     ]
    },
    {
     "name": "stdout",
     "output_type": "stream",
     "text": [
      "0 print helloWorld()\n",
      "\n",
      "I have been working on this problem for hours. I can't figure out what the problem is with my code. It says there is a syntax error on line 3. Please help me figure out why this doesn't work. Thanks!\n",
      "\n",
      "\\begin{code}\n",
      "def helloWorld():\n",
      "    return 10\n",
      "print helloWorld()\n",
      "\\end{code}\n",
      "\n",
      "Comment: This code should be in your question, not as a comment.\n",
      "\n",
      "Answer: You need to indent the `return` statement.\n",
      "\n",
      "\\begin{code}\n",
      "def helloWorld():\n",
      "   return 10\n",
      "print helloWorld()\n",
      "\\end{code}\n",
      "\n",
      "or more correctly use:\n",
      "\n",
      "\\begin{code}\n",
      "print(helloWorld()) # using () since we're dealing with functions (otherwise `1` and `'A'` can confuse a program.)\n",
      "\n",
      "# or\n",
      "\n",
      "print helloWorld()\n",
      "\\end{code}\n",
      "\n",
      "Comment: Thanks! I thought that was the problem, but when I tried it, it still didn't work. I guess I must have made some other mistake.\n"
     ]
    }
   ],
   "source": [
    "from ctransformers import AutoModelForCausalLM, AutoTokenizer\n",
    "from transformers import pipeline\n",
    "\n",
    "# Set gpu_layers to the number of layers to offload to GPU. Set to 0 if no GPU acceleration is available on your system.\n",
    "llm = AutoModelForCausalLM.from_pretrained(\"TheBloke/CodeLlama-7B-Python-GGUF\", model_file=\"codellama-7b-python.Q4_K_M.gguf\", model_type=\"llama\", gpu_layers=50)\n",
    "##tokenizer = AutoTokenizer.from_pretrained(llm)\n",
    "\n",
    "#generator = pipeline(\"text-generation\",model=llm, tokenizer=tokenizer)\n",
    "#generator('def remove_non_ascii(s: str)', max_new_tokens = 128, return_type = 1)\n",
    "\n",
    "print(llm(\"What is wrong with this code def helloWorld(): return 1\"))\n",
    "\n",
    "\n"
   ]
  },
  {
   "cell_type": "code",
   "execution_count": 3,
   "metadata": {},
   "outputs": [
    {
     "name": "stdout",
     "output_type": "stream",
     "text": [
      "\n",
      "\treturn 'hello' + world()\n",
      "\n",
      "def word(msg):\n",
      "    return msg * 2 \n",
      "\n",
      "#if __name__ == \"__main__\":\n",
      "def main():\n",
      "    print(helloworld())\n",
      "\n"
     ]
    }
   ],
   "source": [
    "print(llm(\"def helloworld():\"))"
   ]
  }
 ],
 "metadata": {
  "kernelspec": {
   "display_name": "venv",
   "language": "python",
   "name": "python3"
  },
  "language_info": {
   "codemirror_mode": {
    "name": "ipython",
    "version": 3
   },
   "file_extension": ".py",
   "mimetype": "text/x-python",
   "name": "python",
   "nbconvert_exporter": "python",
   "pygments_lexer": "ipython3",
   "version": "3.11.6"
  }
 },
 "nbformat": 4,
 "nbformat_minor": 2
}
